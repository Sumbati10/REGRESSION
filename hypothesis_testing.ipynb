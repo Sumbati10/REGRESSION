{
  "nbformat": 4,
  "nbformat_minor": 0,
  "metadata": {
    "colab": {
      "provenance": []
    },
    "kernelspec": {
      "name": "python3",
      "display_name": "Python 3"
    },
    "language_info": {
      "name": "python"
    }
  },
  "cells": [
    {
      "cell_type": "markdown",
      "source": [
        "We will implement our first real life problem via python"
      ],
      "metadata": {
        "id": "QCKiyBQqM20_"
      }
    },
    {
      "cell_type": "code",
      "execution_count": null,
      "metadata": {
        "id": "aowB_dlWMvhA"
      },
      "outputs": [],
      "source": [
        "import numpy as np\n",
        "from scipy import stats\n",
        "\n",
        "# Data\n",
        "before_treatment = np.array([120, 122, 118, 130, 125, 128, 115, 121, 123, 119])\n",
        "after_treatment = np.array([115, 120, 112, 128, 122, 125, 110, 117, 119, 114])"
      ]
    },
    {
      "cell_type": "code",
      "source": [
        "# Step 1: Null and Alternate Hypotheses\n",
        "null_hypothesis = \"The new drug has no effect on blood pressure.\"\n",
        "alternate_hypothesis = \"The new drug has an effect on blood pressure.\""
      ],
      "metadata": {
        "id": "yV9NSCDvSHrW"
      },
      "execution_count": null,
      "outputs": []
    },
    {
      "cell_type": "code",
      "source": [
        "# Step 2: Significance Level\n",
        "alpha = 0.05"
      ],
      "metadata": {
        "id": "wWxbRX2kSEWb"
      },
      "execution_count": null,
      "outputs": []
    },
    {
      "cell_type": "code",
      "source": [
        "# Step 3: Paired T-test\n",
        "t_statistic, p_value = stats.ttest_rel(after_treatment, before_treatment)"
      ],
      "metadata": {
        "id": "dMqXvwK4SCQ-"
      },
      "execution_count": null,
      "outputs": []
    },
    {
      "cell_type": "code",
      "source": [
        "# Step 4: Calculate T-statistic manually\n",
        "m = np.mean(after_treatment - before_treatment)\n",
        "s = np.std(after_treatment - before_treatment, ddof=1)  # using ddof=1 for sample standard deviation\n",
        "n = len(before_treatment)\n",
        "t_statistic_manual = m / (s / np.sqrt(n))"
      ],
      "metadata": {
        "id": "3NMHujTWR-cm"
      },
      "execution_count": null,
      "outputs": []
    },
    {
      "cell_type": "code",
      "source": [
        "# Step 5: Decision\n",
        "if p_value <= alpha:\n",
        "    decision = \"Reject\"\n",
        "else:\n",
        "    decision = \"Fail to reject\"\n",
        "\n",
        "# Conclusion\n",
        "if decision == \"Reject\":\n",
        "    conclusion = \"There is statistically significant evidence that the average blood pressure before and after treatment with the new drug is different.\"\n",
        "else:\n",
        "    conclusion = \"There is insufficient evidence to claim a significant difference in average blood pressure before and after treatment with the new drug.\""
      ],
      "metadata": {
        "id": "Z5OXrxw8R2K9"
      },
      "execution_count": null,
      "outputs": []
    },
    {
      "cell_type": "code",
      "source": [
        "# Display results\n",
        "print(\"T-statistic (from scipy):\", t_statistic)\n",
        "print(\"P-value (from scipy):\", p_value)\n",
        "print(\"T-statistic (calculated manually):\", t_statistic_manual)\n",
        "print(f\"Decision: {decision} the null hypothesis at alpha={alpha}.\")\n",
        "print(\"Conclusion:\", conclusion)"
      ],
      "metadata": {
        "id": "PoZuKIxjRwGj",
        "colab": {
          "base_uri": "https://localhost:8080/"
        },
        "outputId": "d6f16ddd-d384-4dad-f598-c008a420dfde"
      },
      "execution_count": null,
      "outputs": [
        {
          "output_type": "stream",
          "name": "stdout",
          "text": [
            "T-statistic (from scipy): -9.0\n",
            "P-value (from scipy): 8.538051223166285e-06\n",
            "T-statistic (calculated manually): -9.0\n",
            "Decision: Reject the null hypothesis at alpha=0.05.\n",
            "Conclusion: There is statistically significant evidence that the average blood pressure before and after treatment with the new drug is different.\n"
          ]
        }
      ]
    },
    {
      "cell_type": "markdown",
      "source": [
        "Here's a breakdown of what this means in the context of hypothesis testing:\n",
        "\n",
        "Null Hypothesis (\n",
        "H\n",
        "0\n",
        "​\n",
        " ): This is a statement of no effect or no difference. It is the hypothesis that the test aims to provide evidence against.\n",
        "\n",
        "Alternative Hypothesis (\n",
        "H\n",
        "A\n",
        "​\n",
        " ): This is what you might believe to be true or hope to prove true. It is the statement that there is an effect or a difference.\n",
        "\n",
        "Significance Level (\n",
        "α): When you set\n",
        "α=0.05, you're stating that you are willing to accept a 5% chance of incorrectly rejecting the null hypothesis. In other words, there is a 5% chance of concluding there is an effect or difference when there is none.\n",
        "\n",
        "P-value: After conducting the t-test, you'll compute a p-value, which is the probability of observing your data (or something more extreme) if the null hypothesis is true.\n",
        "\n",
        "The significance level (\n",
        "α) is then used as a benchmark to compare against the p-value:\n",
        "\n",
        "If\n",
        "p≤α, you reject the null hypothesis in favor of the alternative hypothesis. This means that the observed data is unlikely under the assumption that the null hypothesis is true, and there is evidence to suggest an effect or difference exists at the specified significance level.\n",
        "\n",
        "If\n",
        "p>α, you fail to reject the null hypothesis. This does not necessarily prove the null hypothesis is true, only that there isn't enough evidence to conclude a significant effect or difference at the specified significance level.\n",
        "\n",
        "Choosing a significance level of 0.05 is conventional, but the appropriate level can depend on the context of the test and the consequences of making a Type I error. In fields where the cost of a Type I error is particularly high, a more stringent significance level (like 0.01) might be chosen."
      ],
      "metadata": {
        "id": "QU7lEj_Ss21s"
      }
    },
    {
      "cell_type": "markdown",
      "source": [
        "In the above example, given the T-statistic of approximately -9 and an extremely small p-value, the results indicate a strong case to reject the null hypothesis at a significance level of 0.05.\n"
      ],
      "metadata": {
        "id": "21uHpZdcNvb1"
      }
    },
    {
      "cell_type": "markdown",
      "source": [],
      "metadata": {
        "id": "UiQ4gtC2OdY-"
      }
    },
    {
      "cell_type": "code",
      "source": [
        "import scipy.stats as stats\n",
        "import math\n",
        "import numpy as np\n",
        "\n",
        "# Given data\n",
        "sample_data = np.array(\n",
        "    [205, 198, 210, 190, 215, 205, 200, 192, 198, 205, 198, 202, 208, 200, 205, 198, 205, 210, 192, 205, 198, 205, 210, 192, 205])\n",
        "population_std_dev = 5\n",
        "population_mean = 200\n",
        "sample_size = len(sample_data)\n",
        "\n",
        "# Step 1: Define the Hypotheses\n",
        "# Null Hypothesis (H0): The average cholesterol level in a population is 200 mg/dL.\n",
        "# Alternate Hypothesis (H1): The average cholesterol level in a population is different from 200 mg/dL.\n",
        "\n",
        "# Step 2: Define the Significance Level\n",
        "alpha = 0.05  # Two-tailed test\n",
        "\n",
        "# Critical values for a significance level of 0.05 (two-tailed)\n",
        "critical_value_left = stats.norm.ppf(alpha/2)\n",
        "critical_value_right = -critical_value_left\n",
        "\n",
        "# Step 3: Compute the test statistic\n",
        "sample_mean = sample_data.mean()\n",
        "z_score = (sample_mean - population_mean) / \\\n",
        "    (population_std_dev / math.sqrt(sample_size))\n",
        "\n",
        "# Step 4: Result\n",
        "# Check if the absolute value of the test statistic is greater than the critical values\n",
        "if abs(z_score) > max(abs(critical_value_left), abs(critical_value_right)):\n",
        "    print(\"Reject the null hypothesis.\")\n",
        "    print(\"There is statistically significant evidence that the average cholesterol level in the population is different from 200 mg/dL.\")\n",
        "else:\n",
        "    print(\"Fail to reject the null hypothesis.\")\n",
        "    print(\"There is not enough evidence to conclude that the average cholesterol level in the population is different from 200 mg/dL.\")\n"
      ],
      "metadata": {
        "colab": {
          "base_uri": "https://localhost:8080/"
        },
        "id": "jgQ-tnbzOdoc",
        "outputId": "e563ede4-6dee-427c-b13e-34d078fd9a34"
      },
      "execution_count": null,
      "outputs": [
        {
          "output_type": "stream",
          "name": "stdout",
          "text": [
            "Reject the null hypothesis.\n",
            "There is statistically significant evidence that the average cholesterol level in the population is different from 200 mg/dL.\n"
          ]
        }
      ]
    },
    {
      "cell_type": "markdown",
      "source": [],
      "metadata": {
        "id": "iXf_Lj7cOiP9"
      }
    }
  ]
}